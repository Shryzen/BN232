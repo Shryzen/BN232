{
 "cells": [
  {
   "cell_type": "code",
   "execution_count": 4,
   "id": "baadbe18",
   "metadata": {},
   "outputs": [
    {
     "name": "stdout",
     "output_type": "stream",
     "text": [
      "how many new video you want3\n",
      "how many old video you want4\n",
      "total_cost is 17\n"
     ]
    }
   ],
   "source": [
    "cost_for_new_video=3\n",
    "cost_for_old_video=2\n",
    "numofnewvideo=int(input(\"how many new video you want\"))\n",
    "numofoldvideo=int(input(\"how many old video you want\"))\n",
    "total_cost=numofnewvideo*cost_for_new_video + numofoldvideo*cost_for_old_video\n",
    "print(f\"total_cost is {total_cost}\")\n"
   ]
  },
  {
   "cell_type": "code",
   "execution_count": 3,
   "id": "d626df38",
   "metadata": {},
   "outputs": [
    {
     "name": "stdout",
     "output_type": "stream",
     "text": [
      "enter the mass in kilogram:4\n",
      "enter the velocity in m/sec:3\n",
      "the momentum is 12.0 kgm/s\n"
     ]
    }
   ],
   "source": [
    "mass=float(input(\"enter the mass in kilogram:\"))\n",
    "velocity=float(input(\"enter the velocity in m/sec:\"))\n",
    "print(f\"the momentum is {mass*velocity} kgm/s\")"
   ]
  },
  {
   "cell_type": "code",
   "execution_count": 17,
   "id": "223861be",
   "metadata": {},
   "outputs": [
    {
     "name": "stdout",
     "output_type": "stream",
     "text": [
      "enter the length of the cylinder:22\n",
      "enter the radius of the cylinder:4\n",
      "the area of the cylinder is 50.24 square meter\n",
      "the volume of the cube is 1105.28 cubic meter\n"
     ]
    }
   ],
   "source": [
    "length=float(input(\"enter the length of the cylinder:\"))\n",
    "radius=float(input(\"enter the radius of the cylinder:\"))\n",
    "area=radius*radius*3.14\n",
    "volume=area*length\n",
    "\n",
    "print(f\"the area of the cylinder is {area} square meter\")\n",
    "print(f\"the volume of the cube is {volume} cubic meter\")\n",
    "                 \n"
   ]
  },
  {
   "cell_type": "code",
   "execution_count": 2,
   "id": "c4d015e3",
   "metadata": {},
   "outputs": [
    {
     "name": "stdout",
     "output_type": "stream",
     "text": [
      "enter the number of minutes: 33\n",
      "33 minutes is approximately 0years and 0days.\n"
     ]
    }
   ],
   "source": [
    "minutes_per_day=1440\n",
    "days_per_year=365\n",
    "minutes=int(input(\"enter the number of minutes: \"))\n",
    "total_days=minutes/minutes_per_day\n",
    "years=int(total_days//days_per_year)\n",
    "remaining_days= int(total_days%days_per_year)\n",
    "print(f\"{minutes} minutes is approximately {years}years and {remaining_days}days.\")"
   ]
  },
  {
   "cell_type": "code",
   "execution_count": 1,
   "id": "9fb2c51f",
   "metadata": {},
   "outputs": [
    {
     "name": "stdout",
     "output_type": "stream",
     "text": [
      "enter the velocity v0 meters/second: 65.6\n",
      "enter the velocity v1 meters/second: 74.3\n",
      "enter the time (seconds)23\n",
      "the acceleration is 0.37826086956521754\n"
     ]
    }
   ],
   "source": [
    "velocityv0=float(input(\"enter the velocity v0 meters/second: \"))\n",
    "velocityv1=float(input(\"enter the velocity v1 meters/second: \" ))\n",
    "time=float(input(\"enter the time (seconds)\"))\n",
    "a=(velocityv1-velocityv0)/time\n",
    "print(f\"the acceleration is {a}\" )"
   ]
  },
  {
   "cell_type": "code",
   "execution_count": 4,
   "id": "14e00a5c",
   "metadata": {},
   "outputs": [
    {
     "name": "stdout",
     "output_type": "stream",
     "text": [
      "enter the side:5\n",
      "the area of hexagon is 64.9519052838329\n"
     ]
    }
   ],
   "source": [
    "s=float(input(\"enter the side:\"))\n",
    "area=(3*3**0.5)/2*s**2\n",
    "print(f\"the area of hexagon is {area}\")"
   ]
  },
  {
   "cell_type": "code",
   "execution_count": 5,
   "id": "1269662c",
   "metadata": {},
   "outputs": [
    {
     "name": "stdout",
     "output_type": "stream",
     "text": [
      "a    b   pow(a,b)\n",
      "1   2   2  \n",
      "2   3   5  \n",
      "3   4   28  \n",
      "4   5   257  \n",
      "5   6   3126  \n"
     ]
    }
   ],
   "source": [
    "print(\"a    b   pow(a,b)\")\n",
    "for i in range(1,6):\n",
    "    print(f\"{i}   {i+1}   {i**i+1}  \")"
   ]
  },
  {
   "cell_type": "code",
   "execution_count": 12,
   "id": "dbcb9272",
   "metadata": {},
   "outputs": [
    {
     "name": "stdout",
     "output_type": "stream",
     "text": [
      "the roots are (-2.999999999999999+13.919410907075054j) and (-3.000000000000001-13.919410907075054j)\n",
      "the roots are -3.0000+13.9194j and -3.0000-13.9194j\n"
     ]
    }
   ],
   "source": [
    "a=5\n",
    "b=3\n",
    "c=2\n",
    "r1=(-b+ (b*b-4*a*c)**0.5/2*a)\n",
    "r2=(-b- (b*b-4*a*c)**0.5/2*a)\n",
    "if(r1==r2):\n",
    "    print(f\"the roots is {r1}\")\n",
    "else:\n",
    "    print(f\"the roots are {r1} and {r2}\")\n",
    "    print(f\"the roots are {r1:.4f} and {r2:.4f}\")"
   ]
  },
  {
   "cell_type": "code",
   "execution_count": null,
   "id": "e2d6db71",
   "metadata": {},
   "outputs": [],
   "source": []
  }
 ],
 "metadata": {
  "kernelspec": {
   "display_name": "Python 3 (ipykernel)",
   "language": "python",
   "name": "python3"
  },
  "language_info": {
   "codemirror_mode": {
    "name": "ipython",
    "version": 3
   },
   "file_extension": ".py",
   "mimetype": "text/x-python",
   "name": "python",
   "nbconvert_exporter": "python",
   "pygments_lexer": "ipython3",
   "version": "3.11.5"
  }
 },
 "nbformat": 4,
 "nbformat_minor": 5
}
