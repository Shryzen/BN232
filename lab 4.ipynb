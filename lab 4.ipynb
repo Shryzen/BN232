{
 "cells": [
  {
   "cell_type": "code",
   "execution_count": 12,
   "id": "4e4c77eb",
   "metadata": {},
   "outputs": [
    {
     "name": "stdout",
     "output_type": "stream",
     "text": [
      "3\n",
      "[1, 2, 3, 4, 5]\n",
      "[1, 2, 3, 4, 5, 6, 7, 8, 9, 10]\n",
      "[16, 17, 18, 19, 20]\n",
      "[1, 3, 5, 7, 9, 11, 13, 15, 17, 19]\n",
      "[20, 19, 18, 17, 16, 15, 14, 13, 12, 11, 10, 9, 8, 7, 6, 5, 4, 3, 2, 1]\n",
      "18\n"
     ]
    }
   ],
   "source": [
    "s=[1,2,3,4,5,6,7,8,9,10,11,12,13,14,15,16,17,18,19,20]\n",
    "\n",
    "print(s[2]) # 3rd item\n",
    "print(s[0:5]) # first five item\n",
    "print(s[:midpoint])#first half number\n",
    "print(s[-5:])# last fifth number\n",
    "print(s[::2])# the other number\n",
    "print(s[::-1])# reverse order\n",
    "print(s[-3]) # the third last number"
   ]
  },
  {
   "cell_type": "code",
   "execution_count": 15,
   "id": "af9dfb27",
   "metadata": {},
   "outputs": [
    {
     "name": "stdout",
     "output_type": "stream",
     "text": [
      "[0, 1, 1, 2, 3, 5, 8, 13, 21, 34]\n"
     ]
    }
   ],
   "source": [
    "a=0\n",
    "b=1\n",
    "n=10\n",
    "sequence = []\n",
    "\n",
    "# Generate the Fibonacci sequence\n",
    "for _ in range(n):\n",
    "    sequence.append(a)\n",
    "    a, b = b, a + b\n",
    "\n",
    "# Print the result\n",
    "print(sequence)"
   ]
  },
  {
   "cell_type": "code",
   "execution_count": 16,
   "id": "d8e1a5e2",
   "metadata": {},
   "outputs": [
    {
     "name": "stdout",
     "output_type": "stream",
     "text": [
      "{'unit1': 'BN101', 'unit2': 'BN109', 'unit3': 'BN106'}\n"
     ]
    }
   ],
   "source": [
    "# Creating a dictionary with 3 units\n",
    "my_dict = {\n",
    "    \"unit1\": \"BN101\",\n",
    "    \"unit2\": \"BN109\",\n",
    "    \"unit3\": \"BN106\"\n",
    "}\n",
    "\n",
    "# Printing the dictionary\n",
    "print(my_dict)\n"
   ]
  },
  {
   "cell_type": "code",
   "execution_count": 17,
   "id": "df62ebcf",
   "metadata": {},
   "outputs": [
    {
     "name": "stdout",
     "output_type": "stream",
     "text": [
      "{'Duy': '45908443', 'Khang': '3583672', 'Pham': '359832'}\n"
     ]
    }
   ],
   "source": [
    "my_dict = {\n",
    "    \"Duy\": \"45908443\",\n",
    "    \"Khang\": \"3583672\",\n",
    "    \"Pham\": \"359832\"\n",
    "}\n",
    "\n",
    "# Printing the dictionary\n",
    "print(my_dict)"
   ]
  },
  {
   "cell_type": "code",
   "execution_count": 25,
   "id": "59132275",
   "metadata": {},
   "outputs": [
    {
     "name": "stdout",
     "output_type": "stream",
     "text": [
      "{'phone': '123-456-7890', 'email': 'sky@gmail.com'}\n"
     ]
    }
   ],
   "source": [
    "\n",
    "# Creating a dictionary with contacts, each having a phone number and email address\n",
    "\n",
    "thisdict= {\n",
    "    \"phone\": \"123-456-7890\"\n",
    "}\n",
    "thisdict[\"email\"]=\"sky@gmail.com\"   \n",
    "\n",
    "\n",
    "# Printing the dictionary\n",
    "print(thisdict)"
   ]
  },
  {
   "cell_type": "code",
   "execution_count": 26,
   "id": "9112dbc7",
   "metadata": {},
   "outputs": [
    {
     "name": "stdout",
     "output_type": "stream",
     "text": [
      "Enter the x-coordinate of point 1: 2\n",
      "Enter the y-coordinate of point 1: 4\n",
      "Enter the x-coordinate of point 2: 4\n",
      "Enter the y-coordinate of point 2: 5\n",
      "Enter the x-coordinate of point 3: 1\n",
      "Enter the y-coordinate of point 3: 6\n",
      "The coordinates of the points are:\n",
      "[(2.0, 4.0), (4.0, 5.0), (1.0, 6.0)]\n"
     ]
    }
   ],
   "source": [
    "# Initialize an empty list to store the points\n",
    "shape = []\n",
    "\n",
    "# Loop to read coordinates for 3 points\n",
    "for i in range(1, 4):\n",
    "    # Read the x and y coordinates from the user\n",
    "    x = float(input(f\"Enter the x-coordinate of point {i}: \"))\n",
    "    y = float(input(f\"Enter the y-coordinate of point {i}: \"))\n",
    "    \n",
    "    # Create a tuple for the point\n",
    "    point = (x, y)\n",
    "    \n",
    "    # Add the tuple to the list\n",
    "    shape.append(point)\n",
    "\n",
    "# Print the list of points\n",
    "print(\"The coordinates of the points are:\")\n",
    "print(shape)\n"
   ]
  },
  {
   "cell_type": "code",
   "execution_count": 27,
   "id": "4ff7ce47",
   "metadata": {},
   "outputs": [
    {
     "name": "stdout",
     "output_type": "stream",
     "text": [
      "Enter the first string: hello every one \n",
      "Enter the second string: how are you\n",
      "Set 1 (characters from first string): {'e', 'l', 'r', 'o', ' ', 'v', 'n', 'h', 'y'}\n",
      "Set 2 (characters from second string): {'w', 'e', 'r', 'o', 'a', ' ', 'h', 'u', 'y'}\n",
      "Union of the two sets: {'w', 'e', 'l', 'r', 'o', 'a', ' ', 'v', 'n', 'h', 'u', 'y'}\n",
      "Intersection of the two sets: {'e', 'r', 'o', ' ', 'h', 'y'}\n",
      "Difference (characters in Set 1 but not in Set 2): {'v', 'l', 'n'}\n",
      "Difference (characters in Set 2 but not in Set 1): {'w', 'u', 'a'}\n"
     ]
    }
   ],
   "source": [
    "# Read two strings from the user\n",
    "string1 = input(\"Enter the first string: \")\n",
    "string2 = input(\"Enter the second string: \")\n",
    "\n",
    "# Create sets of characters from each string\n",
    "set1 = set(string1)\n",
    "set2 = set(string2)\n",
    "\n",
    "# Calculate the union, intersection, and difference\n",
    "union_set = set1.union(set2)\n",
    "intersection_set = set1.intersection(set2)\n",
    "difference_set1 = set1.difference(set2)\n",
    "difference_set2 = set2.difference(set1)\n",
    "\n",
    "# Print the results\n",
    "print(\"Set 1 (characters from first string):\", set1)\n",
    "print(\"Set 2 (characters from second string):\", set2)\n",
    "print(\"Union of the two sets:\", union_set)\n",
    "print(\"Intersection of the two sets:\", intersection_set)\n",
    "print(\"Difference (characters in Set 1 but not in Set 2):\", difference_set1)\n",
    "print(\"Difference (characters in Set 2 but not in Set 1):\", difference_set2)\n"
   ]
  },
  {
   "cell_type": "code",
   "execution_count": 28,
   "id": "7f2618d7",
   "metadata": {},
   "outputs": [
    {
     "name": "stdout",
     "output_type": "stream",
     "text": [
      "List of random numbers: [1, 10, 10, 7, 5, 1, 1, 5, 8, 1, 1, 4, 2, 1, 4, 5, 5, 4, 4, 9, 6, 2, 1, 6, 10, 10, 8, 2, 8, 9, 1, 1, 2, 8, 1, 6, 8, 9, 2, 2, 7, 6, 3, 10, 6, 4, 7, 2, 8, 1, 9, 5, 8, 6, 7, 2, 9, 3, 4, 2, 4, 8, 2, 8, 7, 5, 3, 9, 7, 9, 2, 6, 5, 9, 1, 10, 1, 8, 4, 7, 1, 5, 4, 2, 6, 1, 6, 4, 9, 3, 1, 1, 6, 9, 7, 8, 7, 8, 4, 9]\n",
      "Distinct values in the list: {1, 2, 3, 4, 5, 6, 7, 8, 9, 10}\n",
      "Frequency of the number 5: 8\n"
     ]
    }
   ],
   "source": [
    "import random\n",
    "\n",
    "# Generate a list of 100 random integers between 1 and 10\n",
    "random_numbers = [random.randint(1, 10) for _ in range(100)]\n",
    "\n",
    "# Find distinct values in the list\n",
    "distinct_values = set(random_numbers)\n",
    "\n",
    "# Calculate the frequency of the number 5\n",
    "frequency_of_5 = random_numbers.count(5)\n",
    "\n",
    "# Print results\n",
    "print(\"List of random numbers:\", random_numbers)\n",
    "print(\"Distinct values in the list:\", distinct_values)\n",
    "print(\"Frequency of the number 5:\", frequency_of_5)\n"
   ]
  },
  {
   "cell_type": "code",
   "execution_count": null,
   "id": "48ccd2e6",
   "metadata": {},
   "outputs": [],
   "source": []
  }
 ],
 "metadata": {
  "kernelspec": {
   "display_name": "Python 3 (ipykernel)",
   "language": "python",
   "name": "python3"
  },
  "language_info": {
   "codemirror_mode": {
    "name": "ipython",
    "version": 3
   },
   "file_extension": ".py",
   "mimetype": "text/x-python",
   "name": "python",
   "nbconvert_exporter": "python",
   "pygments_lexer": "ipython3",
   "version": "3.11.5"
  }
 },
 "nbformat": 4,
 "nbformat_minor": 5
}
