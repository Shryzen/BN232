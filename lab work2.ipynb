{
 "cells": [
  {
   "cell_type": "code",
   "execution_count": 1,
   "id": "cb7c4da3",
   "metadata": {},
   "outputs": [
    {
     "name": "stdout",
     "output_type": "stream",
     "text": [
      "4\n",
      "surface_area of the ccube is cube centimeter is 96\n"
     ]
    }
   ],
   "source": [
    "edge=int(input())\n",
    "surface_area=6*edge*edge\n",
    "print(f\"surface_area of the ccube is cube centimeter is {surface_area}\")\n",
    "      "
   ]
  },
  {
   "cell_type": "code",
   "execution_count": 19,
   "id": "73547922",
   "metadata": {},
   "outputs": [
    {
     "name": "stdout",
     "output_type": "stream",
     "text": [
      "enterthe radius3\n",
      "diameter, circumference, surface_area and volume of the cube is  6.0,18.84, 113.03999999999999 and113.03999999999998 \n"
     ]
    }
   ],
   "source": [
    "r=float(input(\"enterthe radius\"))\n",
    "\n",
    "diameter = 2*r\n",
    "circumference = 2*3.14*r\n",
    "surface_area = 4*3.14*r*r\n",
    "volume = 4/3*3.14*r*r*r\n",
    "print(f\"diameter, circumference, surface_area and volume of the cube is  {diameter},{circumference}, {surface_area} and{volume} \")\n"
   ]
  },
  {
   "cell_type": "code",
   "execution_count": 20,
   "id": "2387bce0",
   "metadata": {},
   "outputs": [
    {
     "name": "stdout",
     "output_type": "stream",
     "text": [
      " minutes in a year =525600\n"
     ]
    }
   ],
   "source": [
    "print(' minutes in a year ='+ str(60*24*365))"
   ]
  },
  {
   "cell_type": "code",
   "execution_count": 23,
   "id": "34756662",
   "metadata": {},
   "outputs": [
    {
     "name": "stdout",
     "output_type": "stream",
     "text": [
      "seconds in a year=31536000\n",
      "value of a light year=9460800000000000meters\n"
     ]
    }
   ],
   "source": [
    "seconds = int(525600*60)\n",
    "print('seconds in a year='+ str(seconds))\n",
    "print('value of a light year='+ str(3*pow(10,8)*seconds)+'meters')"
   ]
  },
  {
   "cell_type": "code",
   "execution_count": 24,
   "id": "01574736",
   "metadata": {},
   "outputs": [
    {
     "name": "stdout",
     "output_type": "stream",
     "text": [
      "4\n",
      "4feet is1.22meter\n"
     ]
    }
   ],
   "source": [
    "feet=int(input())\n",
    "print(str(feet)+ 'feet is'+ str(feet*0.305)+ 'meter')"
   ]
  },
  {
   "cell_type": "code",
   "execution_count": 25,
   "id": "8dc84796",
   "metadata": {},
   "outputs": [
    {
     "name": "stdout",
     "output_type": "stream",
     "text": [
      "7\n",
      "7 pounds is3.178kilogram\n"
     ]
    }
   ],
   "source": [
    "pound= int(input())\n",
    "print(str(pound) + ' pounds is' + str(pound*0.454)+'kilogram')"
   ]
  },
  {
   "cell_type": "code",
   "execution_count": 26,
   "id": "a178bb07",
   "metadata": {},
   "outputs": [
    {
     "name": "stdout",
     "output_type": "stream",
     "text": [
      " enter x1 and y1:\n",
      "2\n",
      "3\n",
      "enter x2 and y2:\n",
      "4\n",
      "5\n",
      "distance of 2 points: 2.8284271247461903\n"
     ]
    }
   ],
   "source": [
    "print(' enter x1 and y1:')\n",
    "x1=int(input())\n",
    "y1=int(input())\n",
    "print('enter x2 and y2:')\n",
    "x2=int(input())\n",
    "y2=int(input())\n",
    "distance= pow((x2-x1)**2+(y2-y1)**2,0.5)\n",
    "print('distance of 2 points: '+str(distance))\n"
   ]
  },
  {
   "cell_type": "code",
   "execution_count": 29,
   "id": "9740bb51",
   "metadata": {},
   "outputs": [
    {
     "name": "stdout",
     "output_type": "stream",
     "text": [
      "2\n",
      "2Celsius 35.6\n"
     ]
    }
   ],
   "source": [
    "C=int(input())\n",
    "print(str(C)+ 'Celsius '+ str((C*9/5)+32))"
   ]
  },
  {
   "cell_type": "code",
   "execution_count": null,
   "id": "551f4f8f",
   "metadata": {},
   "outputs": [],
   "source": []
  }
 ],
 "metadata": {
  "kernelspec": {
   "display_name": "Python 3 (ipykernel)",
   "language": "python",
   "name": "python3"
  },
  "language_info": {
   "codemirror_mode": {
    "name": "ipython",
    "version": 3
   },
   "file_extension": ".py",
   "mimetype": "text/x-python",
   "name": "python",
   "nbconvert_exporter": "python",
   "pygments_lexer": "ipython3",
   "version": "3.11.5"
  }
 },
 "nbformat": 4,
 "nbformat_minor": 5
}
