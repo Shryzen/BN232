{
 "cells": [
  {
   "cell_type": "code",
   "execution_count": 5,
   "id": "b5385e37",
   "metadata": {},
   "outputs": [
    {
     "name": "stdout",
     "output_type": "stream",
     "text": [
      "enter first Integer: 4\n",
      "enter second integer: 5\n",
      "5,4\n"
     ]
    }
   ],
   "source": [
    "int_1=int(input(\"enter first Integer: \"))\n",
    "int_2=int(input(\"enter second integer: \"))\n",
    "if(int_1 >= int_2):\n",
    "    print(f\"{int_1},{int_2}\")\n",
    "else:\n",
    "    print(f\"{int_2},{int_1}\")\n",
    "    "
   ]
  },
  {
   "cell_type": "markdown",
   "id": "5f8e3577",
   "metadata": {},
   "source": [
    "Qestion No2 "
   ]
  },
  {
   "cell_type": "code",
   "execution_count": 15,
   "id": "0a815b9f",
   "metadata": {},
   "outputs": [
    {
     "name": "stdout",
     "output_type": "stream",
     "text": [
      "Enter 3 digit intiger :2 3 4\n",
      "2 3 4 is not a pallindrom\n"
     ]
    }
   ],
   "source": [
    "int_3digit=input(\"Enter 3 digit intiger :\")\n",
    "if(int_3digit[0]==int_3digit[2]):\n",
    "        print(f\"{int_3digit} is a pallindrom\")\n",
    "else:\n",
    "        print(f\"{int_3digit} is not a pallindrom\") \n",
    "    "
   ]
  },
  {
   "cell_type": "markdown",
   "id": "5bca104f",
   "metadata": {},
   "source": [
    "Qestion no 3"
   ]
  },
  {
   "cell_type": "code",
   "execution_count": 17,
   "id": "ed47fd65",
   "metadata": {},
   "outputs": [
    {
     "name": "stdout",
     "output_type": "stream",
     "text": [
      "Enter the weight of the package in pounds: 33\n",
      "The package cannot be shipped.\n"
     ]
    }
   ],
   "source": [
    "# Prompt the user to enter the weight of the package\n",
    "weight = float(input(\"Enter the weight of the package in pounds: \"))\n",
    "\n",
    "# Check the conditions and display the appropriate message\n",
    "if weight <= 0:\n",
    "    print(\"Invalid input.\")\n",
    "elif weight > 20:\n",
    "    print(\"The package cannot be shipped.\")\n",
    "elif weight <= 1:\n",
    "    print(\"The shipping cost is $3.5.\")\n",
    "elif weight <= 3:\n",
    "    print(\"The shipping cost is $5.5.\")\n",
    "elif weight <= 10:\n",
    "    print(\"The shipping cost is $8.5.\")\n",
    "else:\n",
    "    print(\"The shipping cost is $10.5.\")\n"
   ]
  },
  {
   "cell_type": "markdown",
   "id": "a37f081f",
   "metadata": {},
   "source": [
    "qestion no 4\n"
   ]
  },
  {
   "cell_type": "code",
   "execution_count": 42,
   "id": "1606a378",
   "metadata": {},
   "outputs": [
    {
     "name": "stdout",
     "output_type": "stream",
     "text": [
      "enter the first number: 4\n",
      "enter the second number: 6\n",
      "enter the third number: 3\n",
      "the perimeter of the triangle is 13.0\n"
     ]
    }
   ],
   "source": [
    "a =float(input(\"enter the first number: \"))\n",
    "b =float(input(\"enter the second number: \"))\n",
    "c =float(input(\"enter the third number: \"))\n",
    "if (a+b>c) and (b+c>a) and (a+c>b):\n",
    "    perimeter=a+b+c\n",
    "    print(f\"the perimeter of the triangle is {perimeter}\")\n",
    "else: \n",
    "     print(f\"the input is invalid the sum of two edge must be greater than third edge\")"
   ]
  },
  {
   "cell_type": "markdown",
   "id": "e7068e45",
   "metadata": {},
   "source": [
    "Qestion no 5"
   ]
  },
  {
   "cell_type": "code",
   "execution_count": 45,
   "id": "17bf1112",
   "metadata": {},
   "outputs": [
    {
     "name": "stdout",
     "output_type": "stream",
     "text": [
      "enter the x axis number:4\n",
      "enter the y axis number:5\n",
      "the point of rectangle is outside the 4.0 and 5.0\n"
     ]
    }
   ],
   "source": [
    "x=float(input(\"enter the x axis number:\"))\n",
    "y=float(input(\"enter the y axis number:\"))\n",
    "width=10\n",
    "height=5\n",
    "if  -width/2 <=x <=width/2 and -height/2 <=y <=height/2:\n",
    "    print(f\" the point of rectangle is inside the {x} and {y}\")\n",
    "else:\n",
    "    print(f\"the point of rectangle is outside the {x} and {y}\")\n",
    "    \n"
   ]
  },
  {
   "cell_type": "code",
   "execution_count": 56,
   "id": "ae6ce359",
   "metadata": {},
   "outputs": [
    {
     "name": "stdout",
     "output_type": "stream",
     "text": [
      "the tution fee for year1 is 10500.00\n",
      "the tution fee for year2 is 11025.00\n",
      "the tution fee for year3 is 11576.25\n",
      "the tution fee for year4 is 12155.06\n",
      "the tution fee for year5 is 12762.82\n",
      "the tution fee for year6 is 13400.96\n",
      "the tution fee for year7 is 14071.00\n",
      "the tution fee for year8 is 14774.55\n",
      "the tution fee for year9 is 15513.28\n",
      "the tution fee for year10 is 16288.95\n"
     ]
    }
   ],
   "source": [
    "#question no 6\n",
    "fees=10000\n",
    "r=0.05\n",
    "for i in range(1, 11):\n",
    "    print(f\"the tution fee for year{i} is {fees+fees*r:.2f}\")\n",
    "    fees=fees+fees*r\n",
    "\n"
   ]
  },
  {
   "cell_type": "code",
   "execution_count": 3,
   "id": "7250ef88",
   "metadata": {},
   "outputs": [
    {
     "name": "stdout",
     "output_type": "stream",
     "text": [
      "sum=45.12\n"
     ]
    }
   ],
   "source": [
    "#question no 7\n",
    "\n",
    "sum=0.0\n",
    "for i in range(1,99,2):\n",
    "    sum=sum+i/(i+2)\n",
    "print(f\"{sum=:.2f}\")\n",
    "\n",
    "#for j in range(1,13,3):\n",
    "       # print(j)\n",
    "   \n"
   ]
  },
  {
   "cell_type": "code",
   "execution_count": 4,
   "id": "00f5b58d",
   "metadata": {},
   "outputs": [],
   "source": [
    "#questio no 8\n",
    "total=0\n",
    "pos_count=0\n",
    "neg_count=0\n",
    "\n"
   ]
  },
  {
   "cell_type": "code",
   "execution_count": 11,
   "id": "2a318e4a",
   "metadata": {},
   "outputs": [
    {
     "name": "stdout",
     "output_type": "stream",
     "text": [
      "*\n",
      "**\n",
      "***\n",
      "****\n",
      "*****\n",
      "******\n",
      "*******\n",
      "********\n",
      "*********\n",
      "**********\n"
     ]
    }
   ],
   "source": [
    "#qestio no 11 a\n",
    "rows = 10\n",
    "\n",
    "for i in range(1, rows + 1):\n",
    "    for j in range(i):\n",
    "        print(\"*\", end=\"\")\n",
    "    print()\n"
   ]
  },
  {
   "cell_type": "code",
   "execution_count": 19,
   "id": "a07aa662",
   "metadata": {},
   "outputs": [
    {
     "name": "stdout",
     "output_type": "stream",
     "text": [
      "**********\n",
      "*********\n",
      "********\n",
      "*******\n",
      "******\n",
      "*****\n",
      "****\n",
      "***\n",
      "**\n",
      "*\n"
     ]
    }
   ],
   "source": [
    "#b\n",
    "rows = 10\n",
    "\n",
    "for i in range( rows, 0, - 1):\n",
    "    for j in range(i):\n",
    "        print(\"*\", end=\"\")\n",
    "    print()\n",
    "\n"
   ]
  },
  {
   "cell_type": "code",
   "execution_count": 43,
   "id": "fe4accba",
   "metadata": {},
   "outputs": [
    {
     "name": "stdout",
     "output_type": "stream",
     "text": [
      " **********\n",
      "\n",
      "  *********\n",
      "\n",
      "   ********\n",
      "\n",
      "    *******\n",
      "\n",
      "     ******\n",
      "\n",
      "      *****\n",
      "\n",
      "       ****\n",
      "\n",
      "        ***\n",
      "\n",
      "         **\n",
      "\n",
      "          *\n",
      "\n"
     ]
    }
   ],
   "source": [
    "#c\n",
    "\n",
    "for i in range(1,11):\n",
    "\n",
    "    print(\" \"*(i),end=\"\")\n",
    "    print(\"*\"*(11-i))\n",
    "    print()\n",
    "\n",
    "    \n"
   ]
  },
  {
   "cell_type": "code",
   "execution_count": 44,
   "id": "e25cc399",
   "metadata": {},
   "outputs": [
    {
     "name": "stdout",
     "output_type": "stream",
     "text": [
      "          *\n",
      "\n",
      "         **\n",
      "\n",
      "        ***\n",
      "\n",
      "       ****\n",
      "\n",
      "      *****\n",
      "\n",
      "     ******\n",
      "\n",
      "    *******\n",
      "\n",
      "   ********\n",
      "\n",
      "  *********\n",
      "\n",
      " **********\n",
      "\n"
     ]
    }
   ],
   "source": [
    "#d\n",
    "\n",
    "for i in range(1,11):\n",
    "\n",
    "    print(\" \"*(11-i),end=\"\")\n",
    "    print(\"*\"*i)\n",
    "    print()"
   ]
  },
  {
   "cell_type": "code",
   "execution_count": null,
   "id": "0bae9738",
   "metadata": {},
   "outputs": [],
   "source": []
  }
 ],
 "metadata": {
  "kernelspec": {
   "display_name": "Python 3 (ipykernel)",
   "language": "python",
   "name": "python3"
  },
  "language_info": {
   "codemirror_mode": {
    "name": "ipython",
    "version": 3
   },
   "file_extension": ".py",
   "mimetype": "text/x-python",
   "name": "python",
   "nbconvert_exporter": "python",
   "pygments_lexer": "ipython3",
   "version": "3.11.5"
  }
 },
 "nbformat": 4,
 "nbformat_minor": 5
}
