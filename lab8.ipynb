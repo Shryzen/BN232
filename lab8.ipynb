{
 "cells": [
  {
   "cell_type": "code",
   "execution_count": 1,
   "id": "55a7795b",
   "metadata": {},
   "outputs": [
    {
     "name": "stdout",
     "output_type": "stream",
     "text": [
      "Rectangle 1: Width = 4, Height = 40, Area = 160, Perimeter = 88\n",
      "Rectangle 2: Width = 3.5, Height = 35.7, Area = 124.95000000000002, Perimeter = 78.4\n"
     ]
    }
   ],
   "source": [
    "#question no 1\n",
    "class Rectangle:\n",
    "    def __init__(self, width=1, height=2):\n",
    "        self.width = width\n",
    "        self.height = height\n",
    "    \n",
    "    def getArea(self):\n",
    "        return self.width * self.height\n",
    "    \n",
    "    def getPerimeter(self):\n",
    "        return 2 * (self.width + self.height)\n",
    "\n",
    "# Test program\n",
    "rect1 = Rectangle(4, 40)\n",
    "rect2 = Rectangle(3.5, 35.7)\n",
    "\n",
    "print(f\"Rectangle 1: Width = {rect1.width}, Height = {rect1.height}, Area = {rect1.getArea()}, Perimeter = {rect1.getPerimeter()}\")\n",
    "print(f\"Rectangle 2: Width = {rect2.width}, Height = {rect2.height}, Area = {rect2.getArea()}, Perimeter = {rect2.getPerimeter()}\")\n"
   ]
  },
  {
   "cell_type": "code",
   "execution_count": null,
   "id": "f2855dd7",
   "metadata": {},
   "outputs": [],
   "source": [
    "#question no 2"
   ]
  }
 ],
 "metadata": {
  "kernelspec": {
   "display_name": "Python 3 (ipykernel)",
   "language": "python",
   "name": "python3"
  },
  "language_info": {
   "codemirror_mode": {
    "name": "ipython",
    "version": 3
   },
   "file_extension": ".py",
   "mimetype": "text/x-python",
   "name": "python",
   "nbconvert_exporter": "python",
   "pygments_lexer": "ipython3",
   "version": "3.11.5"
  }
 },
 "nbformat": 4,
 "nbformat_minor": 5
}
